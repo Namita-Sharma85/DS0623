{
 "cells": [
  {
   "cell_type": "code",
   "execution_count": 1,
   "id": "7716b111",
   "metadata": {},
   "outputs": [
    {
     "name": "stdout",
     "output_type": "stream",
     "text": [
      "Python:Exercises::PHP:exercises:\n"
     ]
    }
   ],
   "source": [
    "#Question 1- Write a Python program to replace all occurrences of a space, comma, or dot with a colon.\n",
    "Sample Text- 'Python Exercises, PHP exercises.'//\n",
    "\n",
    "import re\n",
    "text = 'Python Exercises , PHP Exercises.'\n",
    "print(re.sub(\"[ ,.]\", \":\", text))"
   ]
  },
  {
   "cell_type": "code",
   "execution_count": 7,
   "id": "5408ea0f",
   "metadata": {},
   "outputs": [
    {
     "name": "stdout",
     "output_type": "stream",
     "text": [
      "         SUMMARY\n",
      "0    hello world\n",
      "1           test\n",
      "2  four five six\n"
     ]
    }
   ],
   "source": [
    "#Question 2-  Create a dataframe using the dictionary below and remove everything (commas (,), !, XXXX, ;, etc.) from the columns except words.\n",
    "Dictionary- {'SUMMARY' : ['hello, world!', 'XXXXX test', '123four, five:; six...']}//\n",
    "\n",
    "import pandas as pd\n",
    "import re\n",
    "data = {'SUMMARY': ['hello, world', ' test', 'four, five:; six']}\n",
    "df = pd.DataFrame(data)\n",
    "df['SUMMARY'] = df['SUMMARY'].apply(lambda x: re.sub(r'[^\\w\\s]', '', x))\n",
    "print(df)"
   ]
  },
  {
   "cell_type": "code",
   "execution_count": 33,
   "id": "37b6bd08",
   "metadata": {},
   "outputs": [
    {
     "name": "stdout",
     "output_type": "stream",
     "text": [
      "['LOVE', 'INDI']\n"
     ]
    }
   ],
   "source": [
    "#Question 3- Create a function in python to find all words that are at least 4 characters long in a string.\n",
    "The use of the re.compile() method is mandatory.//\n",
    "\n",
    "import re \n",
    "p = re.compile('\\w{4}') \n",
    "print(p.findall(\"I LOVE INDIA\")) "
   ]
  },
  {
   "cell_type": "code",
   "execution_count": 35,
   "id": "7afe968e",
   "metadata": {},
   "outputs": [
    {
     "name": "stdout",
     "output_type": "stream",
     "text": [
      "['proud', 'India', 'and', 'good', 'Data', 'Analy']\n"
     ]
    }
   ],
   "source": [
    "#Question 4- Create a function in python to find all three, four, and five character words in a string. \n",
    "The use of the re.compile() method is mandatory.//\n",
    "\n",
    "import re \n",
    "p = re.compile('\\w{3,5}') \n",
    "print(p.findall(\"I am proud to be an Indian and good Data Analyst\")) \n"
   ]
  },
  {
   "cell_type": "code",
   "execution_count": 54,
   "id": "ce4a5122",
   "metadata": {},
   "outputs": [
    {
     "name": "stdout",
     "output_type": "stream",
     "text": [
      "None\n"
     ]
    }
   ],
   "source": [
    "#Question 5- Create a function in Python to remove the parenthesis in a list of strings. \n",
    "The use of the re.compile() method is mandatory.//\n",
    "\n",
    "    "
   ]
  },
  {
   "cell_type": "code",
   "execution_count": 64,
   "id": "d3612790",
   "metadata": {},
   "outputs": [
    {
     "name": "stdout",
     "output_type": "stream",
     "text": [
      "example\n",
      "hr@fliprobo\n",
      "github\n",
      "Hello\n",
      "Data\n"
     ]
    }
   ],
   "source": [
    "#Question 5- Create a function in Python to remove the parenthesis in a list of strings. The use of the re.compile() method is mandatory.\n",
    "Sample Text: [\"example (.com)\", \"hr@fliprobo (.com)\", \"github (.com)\", \"Hello (Data Science World)\", \"Data (Scientist)\"]//\n",
    "\n",
    "    import re\n",
    "texts = [\"example (.com)\", \"hr@fliprobo (.com)\", \"github (.com)\", \"Hello (Data Science World)\", \"Data (Scientist)\"]\n",
    "pattern = re.compile(r\"\\(\\)\")\n",
    "for text in texts:\n",
    "    print(re.sub(r\" ?\\([^)]+\\)\", \"\", text))"
   ]
  },
  {
   "cell_type": "code",
   "execution_count": 69,
   "id": "0e18a2f8",
   "metadata": {},
   "outputs": [
    {
     "ename": "SyntaxError",
     "evalue": "(unicode error) 'unicodeescape' codec can't decode bytes in position 2-3: truncated \\UXXXXXXXX escape (1531252151.py, line 2)",
     "output_type": "error",
     "traceback": [
      "\u001b[1;36m  Cell \u001b[1;32mIn[69], line 2\u001b[1;36m\u001b[0m\n\u001b[1;33m    with open(\"C:\\Users\\namit\\OneDrive\\Desktop\\data trained\\my text file.txt\", 'r') as file:\u001b[0m\n\u001b[1;37m                                                                             ^\u001b[0m\n\u001b[1;31mSyntaxError\u001b[0m\u001b[1;31m:\u001b[0m (unicode error) 'unicodeescape' codec can't decode bytes in position 2-3: truncated \\UXXXXXXXX escape\n"
     ]
    }
   ],
   "source": [
    "#Question 6- Write a python program to remove the parenthesis area from \n",
    "the text stored in the text file using Regular Expression.//\n",
    "import re\n",
    "with open(\"C:\\Users\\namit\\OneDrive\\Desktop\\data trained\\my text file.txt\", 'r') as file:\n",
    "     text = file.read()\n",
    "modified_text = re.sub(r'\\([^()]*\\)', '', text)\n",
    "with open('my text file.txt', 'w') as file:\n",
    "  file.write(modified_text)"
   ]
  },
  {
   "cell_type": "code",
   "execution_count": 73,
   "id": "d5e67882",
   "metadata": {},
   "outputs": [
    {
     "name": "stdout",
     "output_type": "stream",
     "text": [
      "['Importance', 'Of', 'Regular', 'Expressions', 'In', 'Python']\n"
     ]
    }
   ],
   "source": [
    "#Question 7- Write a regular expression in Python to split a string into uppercase letters.//\n",
    "import re\n",
    "text = \"ImportanceOfRegularExpressionsInPython\"\n",
    "print(re.findall('[A-Z][^A-Z]*', text))"
   ]
  },
  {
   "cell_type": "code",
   "execution_count": 139,
   "id": "f413ec23",
   "metadata": {},
   "outputs": [
    {
     "name": "stdout",
     "output_type": "stream",
     "text": [
      "RegularExpression1 IsAn2 ImportantTopic3 InPython\n"
     ]
    }
   ],
   "source": [
    "#Question 8- Create a function in python to insert spaces between words starting with numbers.//\n",
    "import re\n",
    "\n",
    "def insert_spaces(str):\n",
    "    pattern = r'(\\d+)([A-Za-z]+)'\n",
    "    res = re.sub(pattern, r'\\1 \\2', str)\n",
    "    return res\n",
    "str = \"RegularExpression1IsAn2ImportantTopic3InPython\"\n",
    "final = insert_spaces(str)\n",
    "print(final)"
   ]
  },
  {
   "cell_type": "code",
   "execution_count": 138,
   "id": "9c92be0d",
   "metadata": {},
   "outputs": [
    {
     "name": "stdout",
     "output_type": "stream",
     "text": [
      "Regular Expression1 Is An2 Important Topic3 In Python\n"
     ]
    }
   ],
   "source": [
    "#Question 9- Create a function in python to insert spaces between words starting with capital letters or with numbers.//\n",
    "import re\n",
    "\n",
    "def insert_spaces(text):\n",
    "    pattern = r'([A-Z][a-z0-9]+|\\d+)'\n",
    "    result = re.sub(pattern, r' \\1', text)\n",
    "    result = result.strip()\n",
    "    return result\n",
    "sample_text = \"RegularExpression1IsAn2ImportantTopic3InPython\"\n",
    "output = insert_spaces(sample_text)\n",
    "print(output)"
   ]
  },
  {
   "cell_type": "code",
   "execution_count": 142,
   "id": "e15005b8",
   "metadata": {},
   "outputs": [
    {
     "name": "stdout",
     "output_type": "stream",
     "text": [
      "Not matched!\n",
      "Found a match!\n"
     ]
    }
   ],
   "source": [
    "#Question 11- Write a Python program to match a string that contains only upper and lowercase letters,\n",
    "numbers, and underscores.//\n",
    "\n",
    "import re\n",
    "def text_match(text):\n",
    "        patterns = '^[a-zA-Z0-9_]*$'\n",
    "        if re.search(patterns,  text):\n",
    "                return 'Found a match!'\n",
    "        else:\n",
    "                return('Not matched!')\n",
    "\n",
    "print(text_match(\"I love my country.\"))\n",
    "print(text_match(\"Regular_Expression\"))\n"
   ]
  },
  {
   "cell_type": "code",
   "execution_count": 143,
   "id": "4c0fcd15",
   "metadata": {},
   "outputs": [
    {
     "name": "stdout",
     "output_type": "stream",
     "text": [
      "True\n",
      "False\n"
     ]
    }
   ],
   "source": [
    "#Question 12- Write a Python program where a string will start with a specific number.//\n",
    "import re\n",
    "def match_num(string):\n",
    "    text = re.compile(r\"^4\")\n",
    "    if text.match(string):\n",
    "        return True\n",
    "    else:\n",
    "        return False\n",
    "print(match_num('4-777'))\n",
    "print(match_num('5-234'))\n"
   ]
  },
  {
   "cell_type": "code",
   "execution_count": 144,
   "id": "c9660b6c",
   "metadata": {},
   "outputs": [
    {
     "name": "stdout",
     "output_type": "stream",
     "text": [
      "111.1.111.1\n"
     ]
    }
   ],
   "source": [
    "#Question 13- Write a Python program to remove leading zeros from an IP address//\n",
    "\n",
    "import re\n",
    "ip = \"111.01.111.001\"\n",
    "string = re.sub('\\.[0]*', '.', ip)\n",
    "print(string)"
   ]
  },
  {
   "cell_type": "code",
   "execution_count": 147,
   "id": "cad3ef1f",
   "metadata": {},
   "outputs": [
    {
     "data": {
      "text/plain": [
       "<_io.TextIOWrapper name='file.txt' mode='w' encoding='cp1252'>"
      ]
     },
     "execution_count": 147,
     "metadata": {},
     "output_type": "execute_result"
    }
   ],
   "source": [
    "import re\n",
    "\n",
    "open('file.txt', 'w')\n"
   ]
  },
  {
   "cell_type": "code",
   "execution_count": 155,
   "id": "c693f7c9",
   "metadata": {},
   "outputs": [
    {
     "ename": "IndentationError",
     "evalue": "unexpected indent (2797675371.py, line 2)",
     "output_type": "error",
     "traceback": [
      "\u001b[1;36m  Cell \u001b[1;32mIn[155], line 2\u001b[1;36m\u001b[0m\n\u001b[1;33m    f = open(\"file.txt\",'r')\u001b[0m\n\u001b[1;37m    ^\u001b[0m\n\u001b[1;31mIndentationError\u001b[0m\u001b[1;31m:\u001b[0m unexpected indent\n"
     ]
    }
   ],
   "source": [
    "#Question 14- Write a regular expression in python to match a date string in the form of Month name followed by day number \n",
    "and year stored in a text file.//\n",
    "import re\n",
    " f = open(\"file.txt\",'r')\n",
    "print(f.read())\n",
    "text = file.read()\n",
    "matches = re.findall(r'(\\d+/\\d+/\\d+)',text)\n",
    "print(matches)\n"
   ]
  },
  {
   "cell_type": "code",
   "execution_count": 156,
   "id": "62a67a1c",
   "metadata": {},
   "outputs": [
    {
     "name": "stdout",
     "output_type": "stream",
     "text": [
      "Searching for \"fox\" in \"The quick brown fox jumps over the lazy dog.\" ->\n",
      "Result found\n",
      "Searching for \"dog\" in \"The quick brown fox jumps over the lazy dog.\" ->\n",
      "Result found\n",
      "Searching for \"horse\" in \"The quick brown fox jumps over the lazy dog.\" ->\n",
      "Result not found\n"
     ]
    }
   ],
   "source": [
    "#Question 15- Write a Python program to search some literals strings in a string. //\n",
    "import re\n",
    "patterns = [ 'fox', 'dog', 'horse' ]\n",
    "text = 'The quick brown fox jumps over the lazy dog.'\n",
    "for pattern in patterns:\n",
    "    print('Searching for \"%s\" in \"%s\" ->' % (pattern, text),)\n",
    "    if re.search(pattern,  text):\n",
    "        print('Result found')\n",
    "    else:\n",
    "        print('Result not found')"
   ]
  },
  {
   "cell_type": "code",
   "execution_count": 162,
   "id": "989389cf",
   "metadata": {},
   "outputs": [
    {
     "name": "stdout",
     "output_type": "stream",
     "text": [
      "fox\n"
     ]
    }
   ],
   "source": [
    "#Question 16- Write a Python program to search a literals string in a string and\n",
    "also find the location within the original string where the pattern occurs//\n",
    "\n",
    "import re\n",
    "my_string = 'The quick brown fox jumps over the lazy dog.'\n",
    "m = re.search('\\Wfox\\W', my_string)\n",
    "if m:\n",
    "    print(\"fox\")\n",
    "else:\n",
    "    print('no match found')"
   ]
  },
  {
   "cell_type": "code",
   "execution_count": 164,
   "id": "5fb7d22c",
   "metadata": {},
   "outputs": [
    {
     "name": "stdout",
     "output_type": "stream",
     "text": [
      "exercises\n"
     ]
    }
   ],
   "source": [
    "#Question 17- Write a Python program to find the substrings within a string.//\n",
    "\n",
    "import re\n",
    "my_string = 'Python exercises, PHP exercises, C# exercises'\n",
    "my_substring = 'exercises'\n",
    "m = re.findall(my_substring, my_string)\n",
    "if m:\n",
    "    print( 'exercises')\n",
    "else:\n",
    "    print('no match found')"
   ]
  },
  {
   "cell_type": "code",
   "execution_count": 166,
   "id": "5f250ba5",
   "metadata": {},
   "outputs": [
    {
     "name": "stdout",
     "output_type": "stream",
     "text": [
      "string 'Data' found at position (0, 4)\n",
      "string 'Data' found at position (16, 20)\n",
      "string 'Data' found at position (30, 34)\n"
     ]
    }
   ],
   "source": [
    "#Question 18- Write a Python program to find the occurrence and position of the substrings within a string.//\n",
    "import re\n",
    "my_string = 'Data Structure, Data Analyst, Data Base'\n",
    "my_substring = 'Data'\n",
    "m = re.finditer(my_substring, my_string)\n",
    "for match in m:\n",
    "    print('string \\'{}\\''.format(my_substring), 'found at position', match.span())\n"
   ]
  },
  {
   "cell_type": "code",
   "execution_count": 167,
   "id": "cab14562",
   "metadata": {},
   "outputs": [
    {
     "name": "stdout",
     "output_type": "stream",
     "text": [
      "05-05-2010\n"
     ]
    }
   ],
   "source": [
    "#Question 19- Write a Python program to convert a date of yyyy-mm-dd format to dd-mm-yyyy format.//\n",
    "import re\n",
    "date = '2010-05-05'\n",
    "m = re.split('-', date)\n",
    "new_date = '-'.join(m[::-1])\n",
    "print(new_date)"
   ]
  },
  {
   "cell_type": "code",
   "execution_count": 170,
   "id": "e2fcaa6b",
   "metadata": {},
   "outputs": [
    {
     "name": "stdout",
     "output_type": "stream",
     "text": [
      "['01.12', '0132.12', '2.31', '145.8', '3.01', '27.25', '0.25']\n"
     ]
    }
   ],
   "source": [
    "#Question 20- Create a function in python to find all decimal numbers with a precision of 1 or 2 in a string. \n",
    "The use of the re.compile() method is mandatory.//\n",
    "import re\n",
    "\n",
    "def find_decimal_numbers(string):\n",
    "    pattern = re.compile(r'\\d+\\.\\d{1,2}')\n",
    "    decimal_numbers = re.findall(pattern, string)\n",
    "    return decimal_numbers\n",
    "sample_text = \"01.12 0132.123 2.31875 145.8 3.01 27.25 0.25\"\n",
    "output = find_decimal_numbers(sample_text)\n",
    "print(output)"
   ]
  },
  {
   "cell_type": "code",
   "execution_count": 183,
   "id": "04edc114",
   "metadata": {},
   "outputs": [
    {
     "name": "stdout",
     "output_type": "stream",
     "text": [
      "50\n",
      "Index position: 62\n"
     ]
    }
   ],
   "source": [
    "#Question 21- Write a Python program to separate and print the numbers and their position of a given string.\n",
    "import re\n",
    "text = text = \"The following example creates an ArrayList with a capacity of 50 elements. Four elements are then added to the ArrayList and the ArrayList is trimmed accordingly.\"\n",
    "\n",
    "for m in re.finditer(\"\\d+\", text):\n",
    "    print(m.group(0))\n",
    "    print(\"Index position:\", m.start())\n"
   ]
  },
  {
   "cell_type": "code",
   "execution_count": 184,
   "id": "56f662cb",
   "metadata": {},
   "outputs": [
    {
     "name": "stdout",
     "output_type": "stream",
     "text": [
      "Max_value: 950\n"
     ]
    }
   ],
   "source": [
    "#Question 22- Write a regular expression in python program to extract maximum/largest numeric value from a string.\n",
    "\n",
    "import re\n",
    "string='My marks in each semester are: 947, 896, 926, 524, 734, 950, 642'\n",
    "number = re.findall('\\d+', string)\n",
    "number = map(int, number)\n",
    "print(\"Max_value:\",max(number))"
   ]
  },
  {
   "cell_type": "code",
   "execution_count": 185,
   "id": "ea8aed98",
   "metadata": {},
   "outputs": [
    {
     "name": "stdout",
     "output_type": "stream",
     "text": [
      "Happy Days\n"
     ]
    }
   ],
   "source": [
    "#Question 23- Create a function in python to insert spaces between words starting with capital letters.\n",
    "import re\n",
    "def capital_words_spaces(str1):\n",
    "  return re.sub(r\"(\\w)([A-Z])\", r\"\\1 \\2\", str1)\n",
    "\n",
    "print(capital_words_spaces(\"Happy Days\"))"
   ]
  },
  {
   "cell_type": "code",
   "execution_count": 187,
   "id": "2230a557",
   "metadata": {},
   "outputs": [
    {
     "name": "stdout",
     "output_type": "stream",
     "text": [
      "Found a match!\n",
      "Not matched!\n"
     ]
    }
   ],
   "source": [
    "#Question 24- Python regex to find sequences of one upper case letter followed by lower case letters\n",
    "\n",
    "import re\n",
    "def text_match(text):\n",
    "        patterns = '[A-Z]+[a-z]+$'\n",
    "        if re.search(patterns, text):\n",
    "                return 'Found a match!'\n",
    "        else:\n",
    "                return('Not matched!')\n",
    "print(text_match(\"Nn\"))\n",
    "print(text_match(\"nN\"))"
   ]
  },
  {
   "cell_type": "code",
   "execution_count": 188,
   "id": "d16461f7",
   "metadata": {},
   "outputs": [
    {
     "name": "stdout",
     "output_type": "stream",
     "text": [
      "Hello world\n"
     ]
    }
   ],
   "source": [
    "#Question 25- Write a Python program to remove continuous duplicate words from Sentence using Regular Expression.\n",
    "import re\n",
    "def removeDuplicateWords(input):\n",
    "    regex = r'\\b(\\w+)(?:\\W+\\1\\b)+'\n",
    "    return re.sub(regex, r'\\1', input, flags=re.IGNORECASE)\n",
    "str1 = \"Hello hello world world\"\n",
    "print(removeDuplicateWords(str1))\n",
    " "
   ]
  },
  {
   "cell_type": "code",
   "execution_count": 190,
   "id": "ca2884c7",
   "metadata": {},
   "outputs": [
    {
     "ename": "IndentationError",
     "evalue": "expected an indented block after function definition on line 3 (2874012589.py, line 4)",
     "output_type": "error",
     "traceback": [
      "\u001b[1;36m  Cell \u001b[1;32mIn[190], line 4\u001b[1;36m\u001b[0m\n\u001b[1;33m    if(re.search(regex, string)):\u001b[0m\n\u001b[1;37m    ^\u001b[0m\n\u001b[1;31mIndentationError\u001b[0m\u001b[1;31m:\u001b[0m expected an indented block after function definition on line 3\n"
     ]
    }
   ],
   "source": [
    "#Question 26-  Write a python program using RegEx to accept string ending with alphanumeric character.\n",
    "regex = '[a-zA-z0-9]$'\n",
    "def check(string): \n",
    "if(re.search(regex, string)): \n",
    "print(\"Accept\") \n",
    "else: \n",
    "print(\"Discard\") \n",
    "if __name__ == '__main__' : \n",
    "string = \"Pooja$\"\n",
    "   check(string)\n",
    "string = \"Pooja34\"\n",
    "    check(string)\n",
    "\n"
   ]
  },
  {
   "cell_type": "code",
   "execution_count": 200,
   "id": "07ecb0e0",
   "metadata": {},
   "outputs": [
    {
     "name": "stdout",
     "output_type": "stream",
     "text": [
      "Enter a string: Abc123\n",
      "String ends with an alphanumeric character\n"
     ]
    }
   ],
   "source": [
    "#Question 26-  Write a python program using RegEx to accept string ending with alphanumeric character.\n",
    "import re\n",
    "\n",
    "def check_string(string):\n",
    "    pattern = r\"\\w$\"\n",
    "    match = re.search(pattern, string)\n",
    "    if match:\n",
    "         return True\n",
    "    else:\n",
    "        return False\n",
    "\n",
    "input_string = input(\"Enter a string: \")\n",
    "if check_string(input_string):\n",
    "    print(\"String ends with an alphanumeric character\")\n",
    "else:\n",
    "    print(\"String does not end with an alphanumeric character\")"
   ]
  },
  {
   "cell_type": "code",
   "execution_count": 218,
   "id": "a04080d9",
   "metadata": {},
   "outputs": [
    {
     "ename": "IndentationError",
     "evalue": "unindent does not match any outer indentation level (<tokenize>, line 10)",
     "output_type": "error",
     "traceback": [
      "\u001b[1;36m  File \u001b[1;32m<tokenize>:10\u001b[1;36m\u001b[0m\n\u001b[1;33m    text = \"RT @kapil_kausik: #Doltiwal I mean #xyzabc is hurt by #Demonetization as the same has rendered USELESS <ed><U+00A0><U+00BD><ed><U+00B1><U+0089> \"acquired funds\" No wo\".\u001b[0m\n\u001b[1;37m    ^\u001b[0m\n\u001b[1;31mIndentationError\u001b[0m\u001b[1;31m:\u001b[0m unindent does not match any outer indentation level\n"
     ]
    }
   ],
   "source": [
    "\n",
    "def extract_hashtags(text):\n",
    " \n",
    "      hashtag_list = []\n",
    " \n",
    "          for word in text.split():\n",
    " \n",
    "            if word[0] == '#':\n",
    "            hashtag_list.append(word[1:])\n",
    " \n",
    "   text = \"RT @kapil_kausik: #Doltiwal I mean #xyzabc is hurt by #Demonetization as the same has rendered USELESS <ed><U+00A0><U+00BD><ed><U+00B1><U+0089> \"acquired funds\" No wo\".\n",
    "    extract_hashtags(text)\n",
    "    "
   ]
  },
  {
   "cell_type": "code",
   "execution_count": 219,
   "id": "e20c5417",
   "metadata": {},
   "outputs": [
    {
     "name": "stdout",
     "output_type": "stream",
     "text": [
      "@Jags123456 Bharat band on 28??<ed><ed>Those who are protesting #demonetization are all different party leaders\n"
     ]
    }
   ],
   "source": [
    "#Question 28- Write a python program using RegEx to remove <U+..> like symbols\n",
    "import re\n",
    "\n",
    "text = \"@Jags123456 Bharat band on 28??<ed><U+00A0><U+00BD><ed><U+00B8><U+0082>Those who are protesting #demonetization are all different party leaders\"\n",
    "\n",
    "pattern = r\"<U\\+\\w{4}>\"\n",
    "output = re.sub(pattern, \"\", text)\n",
    "\n",
    "print(output)"
   ]
  },
  {
   "cell_type": "code",
   "execution_count": 222,
   "id": "7232e891",
   "metadata": {},
   "outputs": [
    {
     "data": {
      "text/plain": [
       "<_io.TextIOWrapper name='Date.txt' mode='w' encoding='cp1252'>"
      ]
     },
     "execution_count": 222,
     "metadata": {},
     "output_type": "execute_result"
    }
   ],
   "source": [
    "import re\n",
    "\n",
    "open('Date.txt', 'w')\n"
   ]
  },
  {
   "cell_type": "code",
   "execution_count": 226,
   "id": "27db9fb2",
   "metadata": {},
   "outputs": [
    {
     "name": "stdout",
     "output_type": "stream",
     "text": [
      "12-09-1992\n",
      "15-12-1999\n"
     ]
    }
   ],
   "source": [
    "#Question 29- Write a python program to extract dates from the text stored in the text file.\n",
    "import re\n",
    "\n",
    "with open('Date.txt', 'r') as file:\n",
    "    text = file.read()\n",
    "pattern = r'\\d{2}-\\d{2}-\\d{4}'\n",
    "dates = re.findall(pattern, text)\n",
    "for date in dates:\n",
    "    print(date)"
   ]
  },
  {
   "cell_type": "code",
   "execution_count": 227,
   "id": "cf0418bc",
   "metadata": {},
   "outputs": [
    {
     "name": "stdout",
     "output_type": "stream",
     "text": [
      " following example creates ArrayList a capacity elements. 4 elements added ArrayList ArrayList trimmed accordingly.\n"
     ]
    }
   ],
   "source": [
    "#Question 30- Create a function in python to remove all words from a string of length between 2 and 4.\n",
    "import re\n",
    "text = \"The following example creates an ArrayList with a capacity of 50 elements. 4 elements are then added to the ArrayList and the ArrayList is trimmed accordingly.\"\n",
    "# remove words between 1 and 3\n",
    "shortword = re.compile(r'\\W*\\b\\w{2,4}\\b')\n",
    "print(shortword.sub('', text))"
   ]
  },
  {
   "cell_type": "code",
   "execution_count": null,
   "id": "47c24057",
   "metadata": {},
   "outputs": [],
   "source": []
  }
 ],
 "metadata": {
  "kernelspec": {
   "display_name": "Python 3 (ipykernel)",
   "language": "python",
   "name": "python3"
  },
  "language_info": {
   "codemirror_mode": {
    "name": "ipython",
    "version": 3
   },
   "file_extension": ".py",
   "mimetype": "text/x-python",
   "name": "python",
   "nbconvert_exporter": "python",
   "pygments_lexer": "ipython3",
   "version": "3.11.5"
  }
 },
 "nbformat": 4,
 "nbformat_minor": 5
}
